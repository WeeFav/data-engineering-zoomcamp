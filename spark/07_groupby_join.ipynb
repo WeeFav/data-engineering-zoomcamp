{
 "cells": [
  {
   "cell_type": "code",
   "execution_count": 1,
   "id": "81903551",
   "metadata": {},
   "outputs": [],
   "source": [
    "import pyspark\n",
    "from pyspark.sql import SparkSession\n",
    "\n",
    "spark = SparkSession.builder \\\n",
    "    .master(\"local[*]\") \\\n",
    "    .appName('test') \\\n",
    "    .getOrCreate()"
   ]
  },
  {
   "cell_type": "code",
   "execution_count": 2,
   "id": "f40af762",
   "metadata": {},
   "outputs": [],
   "source": [
    "df_green = spark.read.parquet('./data/green_tripdata_2021-01')"
   ]
  },
  {
   "cell_type": "code",
   "execution_count": 3,
   "id": "025b28a6",
   "metadata": {},
   "outputs": [
    {
     "name": "stderr",
     "output_type": "stream",
     "text": [
      "d:\\data-engineering-zoomcamp\\.venv\\lib\\site-packages\\pyspark\\sql\\dataframe.py:329: FutureWarning: Deprecated in 2.0, use createOrReplaceTempView instead.\n",
      "  warnings.warn(\"Deprecated in 2.0, use createOrReplaceTempView instead.\", FutureWarning)\n"
     ]
    }
   ],
   "source": [
    "df_green.registerTempTable('green')"
   ]
  },
  {
   "cell_type": "code",
   "execution_count": 4,
   "id": "31fcee4c",
   "metadata": {},
   "outputs": [],
   "source": [
    "df_green_revenue = spark.sql(\"\"\"\n",
    "SELECT\n",
    "    date_trunc('hour', lpep_pickup_datetime) AS hour,\n",
    "    PULocationID AS zone,\n",
    "    SUM(total_amount) AS amount,\n",
    "    COUNT(1) AS number_records\n",
    "FROM green\n",
    "WHERE \n",
    "    lpep_pickup_datetime >= '2020-01-01 00:00:00'\n",
    "GROUP BY\n",
    "    1, 2\n",
    "\"\"\")"
   ]
  },
  {
   "cell_type": "code",
   "execution_count": 5,
   "id": "132d73e6",
   "metadata": {},
   "outputs": [
    {
     "name": "stdout",
     "output_type": "stream",
     "text": [
      "+-------------------+----+------------------+--------------+\n",
      "|               hour|zone|            amount|number_records|\n",
      "+-------------------+----+------------------+--------------+\n",
      "|2021-01-30 15:00:00|  41|            164.56|            11|\n",
      "|2021-01-16 15:00:00|  42|             91.41|             8|\n",
      "|2021-01-08 13:00:00|  21|             47.47|             2|\n",
      "|2021-01-05 14:00:00| 145|              39.6|            12|\n",
      "|2021-01-30 10:00:00| 226|61.099999999999994|             2|\n",
      "|2021-01-14 07:00:00| 244|             50.69|             3|\n",
      "|2021-01-19 13:00:00|  65|            108.29|             7|\n",
      "|2021-01-27 15:00:00|  41| 98.46000000000001|             7|\n",
      "|2021-01-20 13:00:00| 226|               8.8|             1|\n",
      "|2021-01-31 10:00:00| 193|              8.16|             1|\n",
      "|2021-01-22 18:00:00|  74|            300.06|            18|\n",
      "|2021-01-08 14:00:00| 116|              56.5|             5|\n",
      "|2021-01-19 10:00:00|  41|167.01999999999998|            10|\n",
      "|2021-01-14 05:00:00|  82|              20.0|             1|\n",
      "|2021-01-14 20:00:00|  74|            238.66|            16|\n",
      "|2021-01-27 08:00:00|  74|            327.66|            26|\n",
      "|2021-01-10 21:00:00|  74|            165.72|            12|\n",
      "|2021-01-19 19:00:00|  43|             189.2|            13|\n",
      "|2021-01-04 14:00:00|  61|             48.36|             3|\n",
      "|2021-01-29 16:00:00|  74|            228.87|            15|\n",
      "+-------------------+----+------------------+--------------+\n",
      "only showing top 20 rows\n",
      "\n"
     ]
    }
   ],
   "source": [
    "df_green_revenue.show()"
   ]
  },
  {
   "cell_type": "code",
   "execution_count": 6,
   "id": "e7248e42",
   "metadata": {},
   "outputs": [],
   "source": [
    "df_green_revenue.repartition(20).write.parquet('./data/report/revenue/green', mode='overwrite')"
   ]
  },
  {
   "cell_type": "code",
   "execution_count": 7,
   "id": "b6291d51",
   "metadata": {},
   "outputs": [
    {
     "name": "stderr",
     "output_type": "stream",
     "text": [
      "d:\\data-engineering-zoomcamp\\.venv\\lib\\site-packages\\pyspark\\sql\\dataframe.py:329: FutureWarning: Deprecated in 2.0, use createOrReplaceTempView instead.\n",
      "  warnings.warn(\"Deprecated in 2.0, use createOrReplaceTempView instead.\", FutureWarning)\n"
     ]
    }
   ],
   "source": [
    "df_yellow = spark.read.parquet('./data/yellow_tripdata_2021-01')\n",
    "df_yellow.registerTempTable('yellow')"
   ]
  },
  {
   "cell_type": "code",
   "execution_count": 8,
   "id": "40385f4e",
   "metadata": {},
   "outputs": [],
   "source": [
    "df_yellow_revenue = spark.sql(\"\"\"\n",
    "SELECT \n",
    "    date_trunc('hour', tpep_pickup_datetime) AS hour, \n",
    "    PULocationID AS zone,\n",
    "\n",
    "    SUM(total_amount) AS amount,\n",
    "    COUNT(1) AS number_records\n",
    "FROM\n",
    "    yellow\n",
    "WHERE\n",
    "    tpep_pickup_datetime >= '2020-01-01 00:00:00'\n",
    "GROUP BY\n",
    "    1, 2\n",
    "\"\"\")"
   ]
  },
  {
   "cell_type": "code",
   "execution_count": 9,
   "id": "b023033a",
   "metadata": {},
   "outputs": [],
   "source": [
    "df_yellow_revenue \\\n",
    "    .repartition(20) \\\n",
    "    .write.parquet('data/report/revenue/yellow', mode='overwrite')"
   ]
  },
  {
   "cell_type": "code",
   "execution_count": 2,
   "id": "0a7f4922",
   "metadata": {},
   "outputs": [],
   "source": [
    "df_green_revenue = spark.read.parquet(\"./data/report/revenue/green\")\n",
    "df_yellow_revenue = spark.read.parquet(\"./data/report/revenue/yellow\")"
   ]
  },
  {
   "cell_type": "code",
   "execution_count": 3,
   "id": "43b24ada",
   "metadata": {},
   "outputs": [],
   "source": [
    "df_green_revenue = df_green_revenue \\\n",
    "    .withColumnRenamed('amount', 'green_amount') \\\n",
    "    .withColumnRenamed('number_records', 'green_number_records')\n",
    "\n",
    "df_yellow_revenue = df_yellow_revenue \\\n",
    "    .withColumnRenamed('amount', 'yellow_amount') \\\n",
    "    .withColumnRenamed('number_records', 'yellow_number_records')"
   ]
  },
  {
   "cell_type": "code",
   "execution_count": 4,
   "id": "aad9df16",
   "metadata": {},
   "outputs": [
    {
     "name": "stdout",
     "output_type": "stream",
     "text": [
      "+-------------------+----+------------------+--------------------+------------------+---------------------+\n",
      "|               hour|zone|      green_amount|green_number_records|     yellow_amount|yellow_number_records|\n",
      "+-------------------+----+------------------+--------------------+------------------+---------------------+\n",
      "|2020-12-31 18:00:00|  90|              NULL|                NULL|             16.56|                    1|\n",
      "|2020-12-31 21:00:00|  75|              NULL|                NULL|               5.3|                    1|\n",
      "|2020-12-31 21:00:00| 263|              NULL|                NULL|              12.8|                    1|\n",
      "|2020-12-31 23:00:00|  42|              NULL|                NULL|              24.8|                    1|\n",
      "|2020-12-31 23:00:00| 231|              NULL|                NULL|              28.3|                    1|\n",
      "|2020-12-31 23:00:00| 237|              NULL|                NULL|             10.56|                    1|\n",
      "|2021-01-01 00:00:00|   4|              NULL|                NULL|              64.4|                    3|\n",
      "|2021-01-01 00:00:00|  10|              NULL|                NULL|              52.4|                    1|\n",
      "|2021-01-01 00:00:00|  17|            102.34|                   3|              32.3|                    2|\n",
      "|2021-01-01 00:00:00|  35|              50.3|                   2|              NULL|                 NULL|\n",
      "|2021-01-01 00:00:00|  48|              NULL|                NULL|1363.7400000000002|                   81|\n",
      "|2021-01-01 00:00:00|  49|              NULL|                NULL|            247.57|                    6|\n",
      "|2021-01-01 00:00:00|  50|              NULL|                NULL|117.45000000000002|                    7|\n",
      "|2021-01-01 00:00:00|  61|43.760000000000005|                   2|            106.06|                    4|\n",
      "|2021-01-01 00:00:00|  70|              NULL|                NULL|            146.68|                    3|\n",
      "|2021-01-01 00:00:00|  76|             36.01|                   1|              NULL|                 NULL|\n",
      "|2021-01-01 00:00:00|  77|              NULL|                NULL|             37.06|                    1|\n",
      "|2021-01-01 00:00:00|  78|              NULL|                NULL|               9.8|                    1|\n",
      "|2021-01-01 00:00:00|  79|              NULL|                NULL|            428.36|                   21|\n",
      "|2021-01-01 00:00:00|  82|              11.8|                   1|               8.8|                    1|\n",
      "+-------------------+----+------------------+--------------------+------------------+---------------------+\n",
      "only showing top 20 rows\n",
      "\n"
     ]
    }
   ],
   "source": [
    "df_join = df_green_revenue.join(df_yellow_revenue, on=['hour', 'zone'], how='outer')\n",
    "df_join.show()"
   ]
  },
  {
   "cell_type": "code",
   "execution_count": 7,
   "id": "3844b395",
   "metadata": {},
   "outputs": [],
   "source": [
    "df_join.repartition(20).write.parquet('./data/report/revenue/total', mode='overwrite')"
   ]
  },
  {
   "cell_type": "code",
   "execution_count": null,
   "id": "05a3758e",
   "metadata": {},
   "outputs": [],
   "source": []
  },
  {
   "cell_type": "code",
   "execution_count": null,
   "id": "918333cc",
   "metadata": {},
   "outputs": [],
   "source": []
  },
  {
   "cell_type": "code",
   "execution_count": null,
   "id": "b48655a4",
   "metadata": {},
   "outputs": [],
   "source": []
  },
  {
   "cell_type": "code",
   "execution_count": null,
   "id": "56bf56b3",
   "metadata": {},
   "outputs": [],
   "source": []
  },
  {
   "cell_type": "code",
   "execution_count": null,
   "id": "b7aea03f",
   "metadata": {},
   "outputs": [],
   "source": []
  },
  {
   "cell_type": "code",
   "execution_count": null,
   "id": "90032296",
   "metadata": {},
   "outputs": [],
   "source": []
  },
  {
   "cell_type": "code",
   "execution_count": null,
   "id": "71238b03",
   "metadata": {},
   "outputs": [],
   "source": []
  },
  {
   "cell_type": "code",
   "execution_count": null,
   "id": "1f12ff83",
   "metadata": {},
   "outputs": [],
   "source": []
  }
 ],
 "metadata": {
  "kernelspec": {
   "display_name": ".venv",
   "language": "python",
   "name": "python3"
  },
  "language_info": {
   "codemirror_mode": {
    "name": "ipython",
    "version": 3
   },
   "file_extension": ".py",
   "mimetype": "text/x-python",
   "name": "python",
   "nbconvert_exporter": "python",
   "pygments_lexer": "ipython3",
   "version": "3.10.11"
  }
 },
 "nbformat": 4,
 "nbformat_minor": 5
}
