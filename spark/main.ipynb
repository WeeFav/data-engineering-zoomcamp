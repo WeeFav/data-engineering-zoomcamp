{
 "cells": [
  {
   "cell_type": "code",
   "execution_count": 1,
   "id": "0f92e229",
   "metadata": {},
   "outputs": [],
   "source": [
    "import pyspark\n",
    "from pyspark.sql import SparkSession, types\n",
    "\n",
    "spark = SparkSession.builder \\\n",
    "    .master(\"local[*]\") \\\n",
    "    .appName('test') \\\n",
    "    .getOrCreate()"
   ]
  },
  {
   "cell_type": "code",
   "execution_count": null,
   "id": "5f23d7c8",
   "metadata": {},
   "outputs": [],
   "source": [
    "schema = types.StructType([\n",
    "    types.StructField('hvfhs_license_num', types.StringType(), True),\n",
    "    types.StructField('dispatching_base_num', types.StringType(), True),\n",
    "    types.StructField('pickup_datetime', types.TimestampType(), True),\n",
    "    types.StructField('dropoff_datetime', types.TimestampType(), True),\n",
    "    types.StructField('PULocationID', types.IntegerType(), True),\n",
    "    types.StructField('DOLocationID', types.IntegerType(), True),\n",
    "    types.StructField('SR_Flag', types.StringType(), True),    \n",
    "])\n",
    "\n",
    "df = spark.read \\\n",
    "    .option(\"header\", \"true\") \\\n",
    "    .schema(schema) \\\n",
    "    .csv('./fhvhv_tripdata_2021-01.csv')\n",
    "    \n",
    "print(df.head(5))\n",
    "\n",
    "df = df.repartition(24)\n",
    "df.write.parquet('fhvhv/2021/01/')"
   ]
  },
  {
   "cell_type": "code",
   "execution_count": 2,
   "id": "e643bad6",
   "metadata": {},
   "outputs": [
    {
     "name": "stdout",
     "output_type": "stream",
     "text": [
      "root\n",
      " |-- hvfhs_license_num: string (nullable = true)\n",
      " |-- dispatching_base_num: string (nullable = true)\n",
      " |-- pickup_datetime: timestamp (nullable = true)\n",
      " |-- dropoff_datetime: timestamp (nullable = true)\n",
      " |-- PULocationID: integer (nullable = true)\n",
      " |-- DOLocationID: integer (nullable = true)\n",
      " |-- SR_Flag: string (nullable = true)\n",
      "\n",
      "+-------------------+-------------------+------------+------------+\n",
      "|    pickup_datetime|   dropoff_datetime|PULocationID|DOLocationID|\n",
      "+-------------------+-------------------+------------+------------+\n",
      "|2021-01-02 23:41:01|2021-01-02 23:44:14|          20|          20|\n",
      "|2021-01-01 17:38:33|2021-01-01 17:42:16|         254|         254|\n",
      "|2021-01-01 02:31:50|2021-01-01 02:42:34|         173|         260|\n",
      "|2021-01-01 22:59:30|2021-01-01 23:13:00|          49|         226|\n",
      "|2021-01-01 09:34:40|2021-01-01 09:38:49|         212|         213|\n",
      "|2021-01-01 07:02:50|2021-01-01 07:20:06|         235|         116|\n",
      "|2021-01-02 20:16:11|2021-01-02 20:35:53|         225|          97|\n",
      "|2021-01-01 13:44:14|2021-01-01 13:56:07|          60|          51|\n",
      "|2021-01-02 16:09:08|2021-01-02 16:31:30|         167|         116|\n",
      "|2021-01-01 02:31:13|2021-01-01 02:40:44|          32|          20|\n",
      "|2021-01-02 15:15:55|2021-01-02 15:38:27|         236|         246|\n",
      "|2021-01-02 13:02:09|2021-01-02 13:12:41|         188|          71|\n",
      "|2021-01-01 05:13:47|2021-01-01 05:26:28|          78|         254|\n",
      "|2021-01-02 14:15:48|2021-01-02 14:25:33|          43|         162|\n",
      "|2021-01-01 02:21:20|2021-01-01 02:32:32|          75|         223|\n",
      "|2021-01-02 01:31:34|2021-01-02 01:39:35|          47|         247|\n",
      "|2021-01-02 17:56:27|2021-01-02 18:20:58|          68|          79|\n",
      "|2021-01-02 01:44:50|2021-01-02 01:57:12|          61|          85|\n",
      "|2021-01-01 20:52:30|2021-01-01 20:57:18|          75|          74|\n",
      "|2021-01-01 01:07:01|2021-01-01 01:14:03|         143|         141|\n",
      "+-------------------+-------------------+------------+------------+\n",
      "only showing top 20 rows\n",
      "\n"
     ]
    }
   ],
   "source": [
    "df = spark.read.parquet('fhvhv/2021/01/')\n",
    "df.printSchema()\n",
    "df.select('pickup_datetime', 'dropoff_datetime', 'PULocationID', 'DOLocationID').filter(df.hvfhs_license_num == 'HV0003').show()"
   ]
  },
  {
   "cell_type": "code",
   "execution_count": null,
   "id": "1c370380",
   "metadata": {},
   "outputs": [
    {
     "name": "stdout",
     "output_type": "stream",
     "text": [
      "+-----------+------------+------------+------------+\n",
      "|pickup_date|dropoff_date|PULocationID|DOLocationID|\n",
      "+-----------+------------+------------+------------+\n",
      "| 2021-01-01|  2021-01-01|         163|          48|\n",
      "| 2021-01-01|  2021-01-01|         117|         201|\n",
      "| 2021-01-02|  2021-01-02|          20|          20|\n",
      "| 2021-01-01|  2021-01-01|         254|         254|\n",
      "| 2021-01-01|  2021-01-01|         173|         260|\n",
      "| 2021-01-01|  2021-01-01|          49|         226|\n",
      "| 2021-01-01|  2021-01-01|         212|         213|\n",
      "| 2021-01-01|  2021-01-01|         235|         116|\n",
      "| 2021-01-02|  2021-01-02|         225|          97|\n",
      "| 2021-01-01|  2021-01-01|          60|          51|\n",
      "| 2021-01-02|  2021-01-02|         167|         116|\n",
      "| 2021-01-01|  2021-01-01|          32|          20|\n",
      "| 2021-01-02|  2021-01-02|         181|         249|\n",
      "| 2021-01-01|  2021-01-01|         151|          24|\n",
      "| 2021-01-02|  2021-01-02|         236|         246|\n",
      "| 2021-01-02|  2021-01-02|         188|          71|\n",
      "| 2021-01-01|  2021-01-01|          78|         254|\n",
      "| 2021-01-02|  2021-01-02|          43|         162|\n",
      "| 2021-01-01|  2021-01-01|          51|         254|\n",
      "| 2021-01-02|  2021-01-02|         114|         141|\n",
      "+-----------+------------+------------+------------+\n",
      "only showing top 20 rows\n",
      "\n"
     ]
    }
   ],
   "source": [
    "from pyspark.sql import functions as F\n",
    "\n",
    "df.withColumn(\"pickup_date\", F.to_date(df.pickup_datetime)) \\\n",
    "  .withColumn(\"dropoff_date\", F.to_date(df.dropoff_datetime)) \\\n",
    "  .select('pickup_date', 'dropoff_date', 'PULocationID', 'DOLocationID') \\\n",
    "  .show()"
   ]
  },
  {
   "cell_type": "code",
   "execution_count": 5,
   "id": "b4658195",
   "metadata": {},
   "outputs": [],
   "source": [
    "def crazy_stuff(base_num):\n",
    "    num = int(base_num[1:])\n",
    "    if num % 7 == 0:\n",
    "        return f's/{num:03x}'\n",
    "    elif num % 3 == 0:\n",
    "        return f'a/{num:03x}'\n",
    "    else:\n",
    "        return f'e/{num:03x}'"
   ]
  },
  {
   "cell_type": "code",
   "execution_count": 7,
   "id": "fc6608a1",
   "metadata": {},
   "outputs": [
    {
     "name": "stdout",
     "output_type": "stream",
     "text": [
      "+-------+-----------+------------+------------+------------+\n",
      "|base_id|pickup_date|dropoff_date|PULocationID|DOLocationID|\n",
      "+-------+-----------+------------+------------+------------+\n",
      "|  e/9ce| 2021-01-01|  2021-01-01|         163|          48|\n",
      "|  e/9ce| 2021-01-01|  2021-01-01|         117|         201|\n",
      "|  s/b13| 2021-01-02|  2021-01-02|          20|          20|\n",
      "|  e/b42| 2021-01-01|  2021-01-01|         254|         254|\n",
      "|  e/acc| 2021-01-01|  2021-01-01|         173|         260|\n",
      "|  e/b3b| 2021-01-01|  2021-01-01|          49|         226|\n",
      "|  e/b38| 2021-01-01|  2021-01-01|         212|         213|\n",
      "|  a/a7a| 2021-01-01|  2021-01-01|         235|         116|\n",
      "|  e/b32| 2021-01-02|  2021-01-02|         225|          97|\n",
      "|  e/b3c| 2021-01-01|  2021-01-01|          60|          51|\n",
      "|  e/b32| 2021-01-02|  2021-01-02|         167|         116|\n",
      "|  e/b3f| 2021-01-01|  2021-01-01|          32|          20|\n",
      "|  e/9ce| 2021-01-02|  2021-01-02|         181|         249|\n",
      "|  s/af0| 2021-01-01|  2021-01-01|         151|          24|\n",
      "|  s/b44| 2021-01-02|  2021-01-02|         236|         246|\n",
      "|  a/a7a| 2021-01-02|  2021-01-02|         188|          71|\n",
      "|  s/b44| 2021-01-01|  2021-01-01|          78|         254|\n",
      "|  e/b30| 2021-01-02|  2021-01-02|          43|         162|\n",
      "|  e/9ce| 2021-01-01|  2021-01-01|          51|         254|\n",
      "|  e/9ce| 2021-01-02|  2021-01-02|         114|         141|\n",
      "+-------+-----------+------------+------------+------------+\n",
      "only showing top 20 rows\n",
      "\n"
     ]
    }
   ],
   "source": [
    "crazy_stuff_udf = F.udf(crazy_stuff, returnType=types.StringType())\n",
    "\n",
    "df.withColumn(\"pickup_date\", F.to_date(df.pickup_datetime)) \\\n",
    "  .withColumn(\"dropoff_date\", F.to_date(df.dropoff_datetime)) \\\n",
    "  .withColumn(\"base_id\", crazy_stuff_udf(df.dispatching_base_num)) \\\n",
    "  .select('base_id', 'pickup_date', 'dropoff_date', 'PULocationID', 'DOLocationID') \\\n",
    "  .show()"
   ]
  }
 ],
 "metadata": {
  "kernelspec": {
   "display_name": ".venv",
   "language": "python",
   "name": "python3"
  },
  "language_info": {
   "codemirror_mode": {
    "name": "ipython",
    "version": 3
   },
   "file_extension": ".py",
   "mimetype": "text/x-python",
   "name": "python",
   "nbconvert_exporter": "python",
   "pygments_lexer": "ipython3",
   "version": "3.10.11"
  }
 },
 "nbformat": 4,
 "nbformat_minor": 5
}
