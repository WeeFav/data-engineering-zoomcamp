{
 "cells": [
  {
   "cell_type": "code",
   "execution_count": 1,
   "id": "ecea0fac",
   "metadata": {},
   "outputs": [],
   "source": [
    "import pyspark\n",
    "from pyspark.sql import SparkSession\n",
    "\n",
    "spark = SparkSession.builder \\\n",
    "    .master(\"local[*]\") \\\n",
    "    .appName('test') \\\n",
    "    .getOrCreate()"
   ]
  },
  {
   "cell_type": "code",
   "execution_count": 2,
   "id": "acd1738b",
   "metadata": {},
   "outputs": [],
   "source": [
    "df_green = spark.read.parquet('./data/green_tripdata_2021-01')\n",
    "df_yellow = spark.read.parquet('./data/yellow_tripdata_2021-01')"
   ]
  },
  {
   "cell_type": "code",
   "execution_count": 3,
   "id": "952a93e8",
   "metadata": {},
   "outputs": [],
   "source": [
    "df_green = df_green.withColumnRenamed('lpep_pickup_datetime', 'pickup_datetime') \\\n",
    "                   .withColumnRenamed('lpep_dropoff_datetime', 'dropoff_datetime')\n",
    "                   \n",
    "df_yellow = df_yellow.withColumnRenamed('tpep_pickup_datetime', 'pickup_datetime') \\\n",
    "                     .withColumnRenamed('tpep_dropoff_datetime', 'dropoff_datetime')                         "
   ]
  },
  {
   "cell_type": "code",
   "execution_count": 4,
   "id": "137d5d59",
   "metadata": {},
   "outputs": [],
   "source": [
    "common_colums = []\n",
    "\n",
    "yellow_columns = set(df_yellow.columns)\n",
    "\n",
    "for col in df_green.columns:\n",
    "    if col in yellow_columns:\n",
    "        common_colums.append(col)"
   ]
  },
  {
   "cell_type": "code",
   "execution_count": 5,
   "id": "f204d9e4",
   "metadata": {},
   "outputs": [],
   "source": [
    "from pyspark.sql import functions as F\n",
    "df_green = df_green.select(common_colums).withColumn('service_type', F.lit('green'))\n",
    "df_yellow = df_yellow.select(common_colums).withColumn('service_type', F.lit('yellow'))"
   ]
  },
  {
   "cell_type": "code",
   "execution_count": 6,
   "id": "4a755246",
   "metadata": {},
   "outputs": [],
   "source": [
    "df_trips_data = df_green.unionAll(df_yellow)"
   ]
  },
  {
   "cell_type": "code",
   "execution_count": 7,
   "id": "ed3c0e4f",
   "metadata": {},
   "outputs": [
    {
     "name": "stdout",
     "output_type": "stream",
     "text": [
      "+------------+-------+\n",
      "|service_type|  count|\n",
      "+------------+-------+\n",
      "|       green|  76518|\n",
      "|      yellow|1369765|\n",
      "+------------+-------+\n",
      "\n"
     ]
    }
   ],
   "source": [
    "df_trips_data.groupBy('service_type').count().show()"
   ]
  },
  {
   "cell_type": "code",
   "execution_count": null,
   "id": "a002597b",
   "metadata": {},
   "outputs": [
    {
     "name": "stdout",
     "output_type": "stream",
     "text": [
      "+------------+--------+\n",
      "|service_type|count(1)|\n",
      "+------------+--------+\n",
      "|       green|   76518|\n",
      "|      yellow| 1369765|\n",
      "+------------+--------+\n",
      "\n"
     ]
    }
   ],
   "source": [
    "df_trips_data.registerTempTable('trips_data')\n",
    "spark.sql(\"\"\"\n",
    "SELECT\n",
    "    service_type,\n",
    "    COUNT(1)\n",
    "FROM trips_data \n",
    "GROUP BY service_type;\n",
    "\"\"\").show()"
   ]
  },
  {
   "cell_type": "code",
   "execution_count": 11,
   "id": "d1098027",
   "metadata": {},
   "outputs": [],
   "source": [
    "df_result = spark.sql(\"\"\"\n",
    "SELECT \n",
    "    -- Revenue grouping \n",
    "    PULocationID AS revenue_zone,\n",
    "    date_trunc('month', pickup_datetime) AS revenue_month, \n",
    "    service_type, \n",
    "\n",
    "    -- Revenue calculation \n",
    "    SUM(fare_amount) AS revenue_monthly_fare,\n",
    "    SUM(extra) AS revenue_monthly_extra,\n",
    "    SUM(mta_tax) AS revenue_monthly_mta_tax,\n",
    "    SUM(tip_amount) AS revenue_monthly_tip_amount,\n",
    "    SUM(tolls_amount) AS revenue_monthly_tolls_amount,\n",
    "    SUM(improvement_surcharge) AS revenue_monthly_improvement_surcharge,\n",
    "    SUM(total_amount) AS revenue_monthly_total_amount,\n",
    "    SUM(congestion_surcharge) AS revenue_monthly_congestion_surcharge,\n",
    "\n",
    "    -- Additional calculations\n",
    "    AVG(passenger_count) AS avg_monthly_passenger_count,\n",
    "    AVG(trip_distance) AS avg_monthly_trip_distance\n",
    "FROM\n",
    "    trips_data\n",
    "GROUP BY\n",
    "    1, 2, 3\n",
    "\"\"\")"
   ]
  },
  {
   "cell_type": "code",
   "execution_count": 12,
   "id": "c3859d08",
   "metadata": {},
   "outputs": [
    {
     "name": "stdout",
     "output_type": "stream",
     "text": [
      "+------------+-------------------+------------+--------------------+---------------------+-----------------------+--------------------------+----------------------------+-------------------------------------+----------------------------+------------------------------------+---------------------------+-------------------------+\n",
      "|revenue_zone|      revenue_month|service_type|revenue_monthly_fare|revenue_monthly_extra|revenue_monthly_mta_tax|revenue_monthly_tip_amount|revenue_monthly_tolls_amount|revenue_monthly_improvement_surcharge|revenue_monthly_total_amount|revenue_monthly_congestion_surcharge|avg_monthly_passenger_count|avg_monthly_trip_distance|\n",
      "+------------+-------------------+------------+--------------------+---------------------+-----------------------+--------------------------+----------------------------+-------------------------------------+----------------------------+------------------------------------+---------------------------+-------------------------+\n",
      "|         169|2021-01-01 00:00:00|       green|   8817.210000000001|                319.0|                   41.5|        459.76000000000005|          368.71000000000004|                    97.20000000000014|          10119.380000000001|                                11.0|                      1.125|        307.2321296296295|\n",
      "|          51|2021-01-01 00:00:00|       green|            14309.02|               624.28|                    8.5|                    845.76|           974.1000000000003|                    160.1999999999999|           16926.86000000001|                                 0.0|         1.0909090909090908|       210.78106343283585|\n",
      "|         145|2021-01-01 00:00:00|       green|             3108.76|                57.75|                   64.5|                    183.14|                      171.36|                    52.50000000000004|          3660.0099999999998|                                22.0|         1.1071428571428572|        3.779125683060109|\n",
      "|          73|2021-01-01 00:00:00|       green|              336.76|                13.75|                    1.0|        22.759999999999998|                         0.0|                                  3.6|                      377.87|                                 0.0|                        1.0|        5.046666666666667|\n",
      "|         151|2021-01-01 00:00:00|       green|  2258.8499999999995|                90.75|                    1.5|                    118.25|                       82.36|                   23.699999999999992|          2575.4100000000008|                                 0.0|                        1.0|         6.95392405063291|\n",
      "|         242|2021-01-01 00:00:00|       green|  14615.619999999992|               742.25|                   21.5|                    917.22|          495.72000000000014|                   188.69999999999965|          16981.010000000013|                                 0.0|                       0.96|       100.27236883942767|\n",
      "|          88|2021-01-01 00:00:00|       green|              345.81|                 2.75|                    0.0|                      16.5|          29.060000000000002|                                  2.4|                      396.52|                                NULL|                       NULL|       15.478749999999998|\n",
      "|         256|2021-01-01 00:00:00|       green|  1569.7200000000003|                64.75|                   10.5|                    122.14|                       48.96|                   20.699999999999996|                     1858.77|                               13.75|         1.0476190476190477|         4.89927536231884|\n",
      "|          40|2021-01-01 00:00:00|       green|             1311.96|                 35.2|                   22.5|                     187.5|                        30.6|                    24.29999999999999|                     1661.06|                                27.5|         1.1063829787234043|         3.45679012345679|\n",
      "|           4|2021-01-01 00:00:00|       green|  1016.0999999999999|                41.25|                    0.0|                     35.75|          54.290000000000006|                                  8.1|                     1155.49|                                NULL|                       NULL|         55.2074074074074|\n",
      "|          24|2021-01-01 00:00:00|       green|             3113.94|               123.75|                  112.5|        303.74999999999994|                       79.56|                     76.5000000000001|           3961.249999999999|                              178.75|         1.1858407079646018|       2.8888235294117646|\n",
      "|          58|2021-01-01 00:00:00|       green|              223.75|                  0.0|                    1.0|                     13.75|                       15.04|                   2.0999999999999996|                      255.64|                                 0.0|                        2.0|       11.228571428571428|\n",
      "|         132|2021-01-01 00:00:00|       green|               354.5|                  2.0|                    4.5|                      17.2|                        30.6|                                  3.3|                       412.1|                                 0.0|         1.4545454545454546|        9.696363636363635|\n",
      "|         113|2021-01-01 00:00:00|       green|  421.96000000000004|                 26.1|                    0.5|                     13.75|                       18.36|                                  4.2|                      484.87|                                 0.0|                        1.0|                     7.63|\n",
      "|         143|2021-01-01 00:00:00|       green|              620.34|                 27.5|                    0.0|                      27.5|                       36.72|                                  6.0|                      718.06|                                NULL|                       NULL|                   8.0835|\n",
      "|         128|2021-01-01 00:00:00|       green|             1132.65|                41.75|                    5.0|        61.349999999999994|                        33.4|                   11.999999999999998|          1294.3999999999999|                                2.75|                        1.5|       302.63700000000006|\n",
      "|         178|2021-01-01 00:00:00|       green|   933.4999999999999|                 33.0|                    2.0|                      60.5|                       16.82|                                 11.1|                     1056.92|                                 0.0|                        1.5|        5.008918918918919|\n",
      "|         234|2021-01-01 00:00:00|       green|              860.38|                 49.5|                    0.0|                     30.25|                       73.44|                    8.399999999999999|                     1021.97|                                NULL|                       NULL|        9.337142857142856|\n",
      "|         138|2021-01-01 00:00:00|       green|               176.5|                  0.5|                    0.5|                      5.06|                       12.24|                                  1.5|                       201.8|                                 5.5|                        1.8|       4.3100000000000005|\n",
      "|          69|2021-01-01 00:00:00|       green|  12733.220000000001|   454.79999999999995|                   54.5|         618.3800000000001|           273.0799999999999|                   151.79999999999998|          14302.280000000002|                               13.75|          1.423728813559322|        5.204529411764704|\n",
      "+------------+-------------------+------------+--------------------+---------------------+-----------------------+--------------------------+----------------------------+-------------------------------------+----------------------------+------------------------------------+---------------------------+-------------------------+\n",
      "only showing top 20 rows\n",
      "\n"
     ]
    }
   ],
   "source": [
    "df_result.show()"
   ]
  },
  {
   "cell_type": "code",
   "execution_count": 14,
   "id": "fabf75d4",
   "metadata": {},
   "outputs": [],
   "source": [
    "df_result.coalesce(1).write.parquet('./data/report/', mode='overwrite')"
   ]
  }
 ],
 "metadata": {
  "kernelspec": {
   "display_name": ".venv",
   "language": "python",
   "name": "python3"
  },
  "language_info": {
   "codemirror_mode": {
    "name": "ipython",
    "version": 3
   },
   "file_extension": ".py",
   "mimetype": "text/x-python",
   "name": "python",
   "nbconvert_exporter": "python",
   "pygments_lexer": "ipython3",
   "version": "3.10.11"
  }
 },
 "nbformat": 4,
 "nbformat_minor": 5
}
